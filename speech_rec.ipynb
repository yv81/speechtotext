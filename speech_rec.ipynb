{
 "cells": [
  {
   "cell_type": "code",
   "execution_count": 1,
   "id": "befffddb",
   "metadata": {},
   "outputs": [],
   "source": [
    "#pip install speechrecognition\n",
    "#pip install pyttsx3\n",
    "#pip install pyaudio\n",
    "import speech_recognition as sr\n",
    "import pyttsx3"
   ]
  },
  {
   "cell_type": "code",
   "execution_count": null,
   "id": "dec7c3e5",
   "metadata": {},
   "outputs": [
    {
     "name": "stdout",
     "output_type": "stream",
     "text": [
      "Silence please\n",
      "Speak now please....\n"
     ]
    }
   ],
   "source": [
    "recognizer = sr.Recognizer()\n",
    "\n",
    "try:\n",
    "    with sr.Microphone() as mic:\n",
    "        print(\"Silence please\")\n",
    "        recognizer.adjust_for_ambient_noise(mic, duration=2)\n",
    "        print(\"Speak now please....\")\n",
    "        audio = recognizer.listen(mic)\n",
    "        text = recognizer.recognize_google(audio)\n",
    "        text = text.lower()\n",
    "        print(f\"Recognized: {text}\")\n",
    "\n",
    "except sr.WaitTimeoutError:\n",
    "    print(\"No speech detected. Please speak again.\")\n",
    "\n",
    "except sr.RequestError as e:\n",
    "    print(f\"Request error: {e}\")\n",
    "\n",
    "except sr.UnknownValueError:\n",
    "    print(\"Speech not recognized. Please speak more clearly or try again.\")\n",
    "\n",
    "except KeyboardInterrupt:\n",
    "    print(\"Speech recognition terminated by user.\")\n"
   ]
  },
  {
   "cell_type": "code",
   "execution_count": null,
   "id": "e5f2bc25",
   "metadata": {},
   "outputs": [],
   "source": []
  },
  {
   "cell_type": "code",
   "execution_count": null,
   "id": "109046b1",
   "metadata": {},
   "outputs": [],
   "source": []
  }
 ],
 "metadata": {
  "kernelspec": {
   "display_name": "Python 3 (ipykernel)",
   "language": "python",
   "name": "python3"
  },
  "language_info": {
   "codemirror_mode": {
    "name": "ipython",
    "version": 3
   },
   "file_extension": ".py",
   "mimetype": "text/x-python",
   "name": "python",
   "nbconvert_exporter": "python",
   "pygments_lexer": "ipython3",
   "version": "3.9.13"
  }
 },
 "nbformat": 4,
 "nbformat_minor": 5
}
